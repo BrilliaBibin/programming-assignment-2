{
 "cells": [
  {
   "cell_type": "raw",
   "id": "60938322-3230-40d0-9528-4eb9fe9dba56",
   "metadata": {},
   "source": [
    "1. Write a Python program to convert kilometers to miles?"
   ]
  },
  {
   "cell_type": "code",
   "execution_count": 4,
   "id": "97d0cea5-f682-4b1b-bc52-e36e352171ee",
   "metadata": {},
   "outputs": [
    {
     "name": "stdin",
     "output_type": "stream",
     "text": [
      "Enter the value in kilometers:  5.5\n"
     ]
    },
    {
     "name": "stdout",
     "output_type": "stream",
     "text": [
      "The entered value in Miles:  3.4175405\n"
     ]
    }
   ],
   "source": [
    "km =float(input(\"Enter the value in kilometers: \"))\n",
    "conv_fac = 0.621371\n",
    "mi = km * conv_fac\n",
    "print(\"The entered value in Miles: \", mi)"
   ]
  },
  {
   "cell_type": "raw",
   "id": "d9c8ea53-f64c-4636-bcb2-69c359926ef4",
   "metadata": {},
   "source": [
    "2. Write a Python program to convert Celsius to Fahrenheit?"
   ]
  },
  {
   "cell_type": "code",
   "execution_count": 6,
   "id": "3657657c-fc4e-4786-a50d-cf9620113610",
   "metadata": {},
   "outputs": [
    {
     "name": "stdin",
     "output_type": "stream",
     "text": [
      "Enter temperature in celsius:  37.5\n"
     ]
    },
    {
     "name": "stdout",
     "output_type": "stream",
     "text": [
      "37.50 Celsius is: 99.50 Fahrenheit\n"
     ]
    }
   ],
   "source": [
    "celsius = float(input(\"Enter temperature in celsius: \"))\n",
    "fahrenheit = (celsius * 9/5) + 32\n",
    "print('%.2f Celsius is: %0.2f Fahrenheit' %(celsius, fahrenheit))"
   ]
  },
  {
   "cell_type": "raw",
   "id": "6e299458-28b7-438e-9978-c309a03395bc",
   "metadata": {},
   "source": [
    "3. Write a Python program to display calendar?"
   ]
  },
  {
   "cell_type": "code",
   "execution_count": 8,
   "id": "c69a3543-c717-49da-936f-afe9988ad96d",
   "metadata": {},
   "outputs": [
    {
     "name": "stdin",
     "output_type": "stream",
     "text": [
      "Enter year:  1989\n",
      "Enter month:  10\n"
     ]
    },
    {
     "name": "stdout",
     "output_type": "stream",
     "text": [
      "    October 1989\n",
      "Mo Tu We Th Fr Sa Su\n",
      "                   1\n",
      " 2  3  4  5  6  7  8\n",
      " 9 10 11 12 13 14 15\n",
      "16 17 18 19 20 21 22\n",
      "23 24 25 26 27 28 29\n",
      "30 31\n",
      "\n"
     ]
    }
   ],
   "source": [
    "import calendar  \n",
    "yy = int(input(\"Enter year: \"))  \n",
    "mm = int(input(\"Enter month: \"))  \n",
    "  \n",
    "print(calendar.month(yy,mm))  "
   ]
  },
  {
   "cell_type": "raw",
   "id": "db676d5e-c672-48c6-846b-c4c004e7efaf",
   "metadata": {},
   "source": [
    "4. Write a Python program to solve quadratic equation?"
   ]
  },
  {
   "cell_type": "code",
   "execution_count": 11,
   "id": "dc362767-4763-435c-8d8a-94e94c632cbc",
   "metadata": {},
   "outputs": [
    {
     "name": "stdin",
     "output_type": "stream",
     "text": [
      "enter value of a: 1\n",
      "enter value of b: 5\n",
      "enter value of c: 6\n"
     ]
    },
    {
     "name": "stdout",
     "output_type": "stream",
     "text": [
      "solutions are (-2+0j) and (-3+0j)\n"
     ]
    }
   ],
   "source": [
    "import cmath\n",
    "a=float(input(\"enter value of a:\"))\n",
    "b=float(input(\"enter value of b:\"))\n",
    "c=float(input(\"enter value of c:\"))\n",
    "d=(b**2)-(4*a*c)\n",
    "s1=(-b+cmath.sqrt(d))/(2*a)\n",
    "s2=(-b-cmath.sqrt(d))/(2*a)\n",
    "print(\"solutions are {0} and {1}\".format(s1,s2))"
   ]
  },
  {
   "cell_type": "raw",
   "id": "24aa7d3c-7df7-4c87-b530-fd3f2ae86e3a",
   "metadata": {},
   "source": [
    "5. Write a Python program to swap two variables without temp variable?"
   ]
  },
  {
   "cell_type": "code",
   "execution_count": 12,
   "id": "b49ad832-0d16-4ee0-b9d9-09501f4c5488",
   "metadata": {},
   "outputs": [
    {
     "name": "stdin",
     "output_type": "stream",
     "text": [
      "Enter value of first variable:  2\n",
      "Enter value of second variable:  4\n"
     ]
    },
    {
     "name": "stdout",
     "output_type": "stream",
     "text": [
      "a is: 4  b is: 2\n"
     ]
    }
   ],
   "source": [
    "a=int(input(\"Enter value of first variable: \"))\n",
    "b=int(input(\"Enter value of second variable: \"))\n",
    "a=a+b\n",
    "b=a-b\n",
    "a=a-b\n",
    "print(\"a is:\",a,\" b is:\",b)"
   ]
  }
 ],
 "metadata": {
  "kernelspec": {
   "display_name": "Python 3 (ipykernel)",
   "language": "python",
   "name": "python3"
  },
  "language_info": {
   "codemirror_mode": {
    "name": "ipython",
    "version": 3
   },
   "file_extension": ".py",
   "mimetype": "text/x-python",
   "name": "python",
   "nbconvert_exporter": "python",
   "pygments_lexer": "ipython3",
   "version": "3.10.6"
  }
 },
 "nbformat": 4,
 "nbformat_minor": 5
}
